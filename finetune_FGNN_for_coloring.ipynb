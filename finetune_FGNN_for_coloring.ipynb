{
 "cells": [
  {
   "cell_type": "code",
   "execution_count": 42,
   "id": "smooth-weight",
   "metadata": {},
   "outputs": [
    {
     "data": {
      "text/plain": [
       "<module 'models.coloring_model' from '/home/eichhornchen/Documents/Scolarité/M2_MVA/stage/graph_neural_net/models/coloring_model.py'>"
      ]
     },
     "execution_count": 42,
     "metadata": {},
     "output_type": "execute_result"
    }
   ],
   "source": [
    "import os\n",
    "from pathlib import Path\n",
    "import math\n",
    "import json\n",
    "import numpy as np\n",
    "import torch\n",
    "import time\n",
    "import matplotlib.pyplot as plt\n",
    "import imp\n",
    "from models import get_model\n",
    "from toolbox.losses import coloring_loss\n",
    "from toolbox import metrics\n",
    "from loaders.data_generator import GCP_Generator\n",
    "from loaders.siamese_loaders import siamese_loader\n",
    "from toolbox.metrics import all_losses_acc, accuracy_linear_assignment\n",
    "from toolbox.utils import check_dir\n",
    "from models import coloring_model\n",
    "imp.reload(coloring_model)"
   ]
  },
  {
   "cell_type": "code",
   "execution_count": 43,
   "id": "junior-calvin",
   "metadata": {},
   "outputs": [],
   "source": [
    "def get_device_config(model_path):\n",
    "    config_file = os.path.join(model_path,'config.json')\n",
    "    with open(config_file) as json_file:\n",
    "        config_model = json.load(json_file)\n",
    "    use_cuda = not config_model['cpu'] and torch.cuda.is_available()\n",
    "    device = 'cuda' if use_cuda else 'cpu'\n",
    "    return config_model, device\n",
    "\n",
    "def load_model(model_path, config, device):\n",
    "    model = get_model(config['arch'])\n",
    "    model.to(device)\n",
    "    model_file = os.path.join(model_path,'model_best.pth.tar')\n",
    "    if device == 'cpu':\n",
    "        checkpoint = torch.load(model_file,map_location=torch.device('cpu'))\n",
    "    else:\n",
    "        checkpoint = torch.load(model_file)\n",
    "    model.load_state_dict(checkpoint['state_dict'])\n",
    "    return model\n",
    "\n",
    "def creat_args(config, num_ex = 1000):\n",
    "    args = config['data']\n",
    "    args['num_examples_test'] = num_ex\n",
    "    n_vertices = args['n_vertices']\n",
    "    edge_density = args['edge_density']\n",
    "    deg = (n_vertices)*edge_density\n",
    "    print(f'graphs with {n_vertices} vertices and average degree {deg}')\n",
    "    return args, deg\n",
    "\n",
    "def acc_2_error(mean_acc, q_acc):\n",
    "    error = q_acc-mean_acc[:,np.newaxis]\n",
    "    error[:,0] = -error[:,0]\n",
    "    return error\n",
    "\n",
    "def compute_dataset(args,path_dataset,train=True,bs=50):\n",
    "    num_batches = math.ceil(args['num_examples_val']/bs)\n",
    "    if train:\n",
    "        gene = GCP_Generator('train', args, path_dataset)\n",
    "    else:\n",
    "        gene = GCP_Generator('test', args, path_dataset)\n",
    "    gene.load_dataset()\n",
    "    loader = siamese_loader(gene, bs, gene.constant_n_vertices)\n",
    "    return loader\n",
    "\n",
    "def compute_quant(all_acc,quant_low=0.1,quant_up=0.9):\n",
    "    mean_acc = np.mean(all_acc,1)\n",
    "    num = len(mean_acc)\n",
    "    q_acc = np.zeros((num,2))\n",
    "    for i in range(num):\n",
    "        q_acc[i,:] = np.quantile(all_acc[i,:],[quant_up, quant_low])\n",
    "    return mean_acc, q_acc\n",
    "\n",
    "def train_epoch(model, embed_model, train_loader):\n",
    "    loss_fn = coloring_loss()\n",
    "    optimizer = torch.optim.Adam(model.parameters(), lr=0.0001)\n",
    "    model.train()\n",
    "    cum_loss = 0\n",
    "    for idx, (graph,tgt) in enumerate(train_loader):\n",
    "        graph = graph.to(device)\n",
    "        embed = embed_model(graph)\n",
    "        \n",
    "        tgt = tgt.to(device)\n",
    "        \n",
    "        out = model(embed)\n",
    "        \n",
    "        optimizer.zero_grad()\n",
    "\n",
    "        loss = loss_fn(out, tgt)\n",
    "        loss.backward()\n",
    "\n",
    "        optimizer.step()\n",
    "        cum_loss += loss.item()\n",
    "    return cum_loss / len(train_loader)\n",
    "\n",
    "\n",
    "def evaluate(model, val_loader):\n",
    "    model.eval()\n",
    "    cum_loss = 0\n",
    "    for idx, (graph, tgt) in (enumerate(valid_loader)):\n",
    "        graph = graph.to(device)\n",
    "        embed = embed_model(graph)\n",
    "        \n",
    "        tgt = tgt.to(device)\n",
    "        \n",
    "        out = model(embed)\n",
    "        \n",
    "        loss = loss_fn(out, tgt)\n",
    "        cum_loss += loss.item()\n",
    "    return cum_loss / len(val_loader) \n",
    "    "
   ]
  },
  {
   "cell_type": "markdown",
   "id": "sonic-capital",
   "metadata": {},
   "source": [
    "## Loading the pretrained model"
   ]
  },
  {
   "cell_type": "code",
   "execution_count": 31,
   "id": "chinese-optimization",
   "metadata": {},
   "outputs": [],
   "source": [
    "import requests\n",
    "config_url = 'https://github.com/mlelarge/graph_neural_net/releases/download/QAP/config.json'\n",
    "model_url = 'https://github.com/mlelarge/graph_neural_net/releases/download/QAP/model_best.pth.tar'\n",
    "cwd = os.getcwd()\n",
    "downloads = os.path.join(cwd, 'downloads')\n",
    "check_dir(downloads)\n",
    "\n",
    "r = requests.get(config_url)\n",
    "with open(cwd+'/downloads/config.json', 'wb') as f:\n",
    "    f.write(r.content)\n",
    "\n",
    "r = requests.get(model_url)\n",
    "with open(cwd+'/downloads/model_best.pth.tar', 'wb') as f:\n",
    "    f.write(r.content)"
   ]
  },
  {
   "cell_type": "code",
   "execution_count": 32,
   "id": "answering-british",
   "metadata": {},
   "outputs": [
    {
     "name": "stdout",
     "output_type": "stream",
     "text": [
      "Fetching model Siamese_Model - Simple_Node_Embedding \n"
     ]
    }
   ],
   "source": [
    "model_path = cwd+'/downloads/'\n",
    "config_model, device = get_device_config(model_path)\n",
    "embed_model = load_model(model_path,config_model,device)\n",
    "criterion = triplet_loss()"
   ]
  },
  {
   "cell_type": "code",
   "execution_count": 33,
   "id": "peaceful-yugoslavia",
   "metadata": {},
   "outputs": [
    {
     "name": "stdout",
     "output_type": "stream",
     "text": [
      "graphs with 50 vertices and average degree 10.0\n"
     ]
    }
   ],
   "source": [
    "args,deg  = creat_args(config_model)"
   ]
  },
  {
   "cell_type": "markdown",
   "id": "urban-vocabulary",
   "metadata": {},
   "source": [
    "## Generating data and loaders"
   ]
  },
  {
   "cell_type": "code",
   "execution_count": 35,
   "id": "organizational-belarus",
   "metadata": {},
   "outputs": [
    {
     "name": "stdout",
     "output_type": "stream",
     "text": [
      "Creating dataset at downloads/Color_Regular_20000_50_1.0_0.2/train.pkl\n"
     ]
    },
    {
     "name": "stderr",
     "output_type": "stream",
     "text": [
      "100%|██████████| 20000/20000 [03:38<00:00, 91.47it/s]\n"
     ]
    },
    {
     "name": "stdout",
     "output_type": "stream",
     "text": [
      "Saving dataset at downloads/Color_Regular_20000_50_1.0_0.2/train.pkl\n",
      "Creating dataset at downloads/Color_Regular_20000_50_1.0_0.2/train_dgl.pkl\n",
      "Converting data to DGL format\n"
     ]
    },
    {
     "name": "stderr",
     "output_type": "stream",
     "text": [
      "100%|██████████| 20000/20000 [00:13<00:00, 1531.68it/s]\n"
     ]
    },
    {
     "name": "stdout",
     "output_type": "stream",
     "text": [
      "Conversion ended.\n",
      "Saving dataset at downloads/Color_Regular_20000_50_1.0_0.2/train_dgl.pkl\n",
      "Creating dataset at downloads/Color_Regular_1000_50_1.0_0.2/test.pkl\n"
     ]
    },
    {
     "name": "stderr",
     "output_type": "stream",
     "text": [
      "100%|██████████| 1000/1000 [00:10<00:00, 94.81it/s]\n"
     ]
    },
    {
     "name": "stdout",
     "output_type": "stream",
     "text": [
      "Saving dataset at downloads/Color_Regular_1000_50_1.0_0.2/test.pkl\n",
      "Creating dataset at downloads/Color_Regular_1000_50_1.0_0.2/test_dgl.pkl\n",
      "Converting data to DGL format\n"
     ]
    },
    {
     "name": "stderr",
     "output_type": "stream",
     "text": [
      "100%|██████████| 1000/1000 [00:00<00:00, 1660.68it/s]\n"
     ]
    },
    {
     "name": "stdout",
     "output_type": "stream",
     "text": [
      "Conversion ended.\n",
      "Saving dataset at downloads/Color_Regular_1000_50_1.0_0.2/test_dgl.pkl\n"
     ]
    }
   ],
   "source": [
    "args['num_colors_low'] = 3\n",
    "args['num_colors_high'] = 5\n",
    "train_loader = compute_dataset(args, \"downloads\")\n",
    "test_loader = compute_dataset(args, \"downloads\", train=False)"
   ]
  },
  {
   "cell_type": "markdown",
   "id": "registered-virus",
   "metadata": {},
   "source": [
    "## Training the coloring model"
   ]
  },
  {
   "cell_type": "code",
   "execution_count": 46,
   "id": "caroline-bookmark",
   "metadata": {},
   "outputs": [],
   "source": [
    "model = coloring_model.ColoringModel(args['n_vertices'],embed_dim=32)"
   ]
  },
  {
   "cell_type": "code",
   "execution_count": 47,
   "id": "featured-tampa",
   "metadata": {},
   "outputs": [
    {
     "ename": "RuntimeError",
     "evalue": "CUDA error: unspecified launch failure\nCUDA kernel errors might be asynchronously reported at some other API call,so the stacktrace below might be incorrect.\nFor debugging consider passing CUDA_LAUNCH_BLOCKING=1.",
     "output_type": "error",
     "traceback": [
      "\u001b[0;31m---------------------------------------------------------------------------\u001b[0m",
      "\u001b[0;31mRuntimeError\u001b[0m                              Traceback (most recent call last)",
      "\u001b[0;32m<ipython-input-47-f74cba506a8d>\u001b[0m in \u001b[0;36m<module>\u001b[0;34m\u001b[0m\n\u001b[1;32m      2\u001b[0m \u001b[0;32mfor\u001b[0m \u001b[0mepoch\u001b[0m \u001b[0;32min\u001b[0m \u001b[0mrange\u001b[0m\u001b[0;34m(\u001b[0m\u001b[0;36m1\u001b[0m\u001b[0;34m,\u001b[0m \u001b[0mnum_epochs\u001b[0m\u001b[0;34m+\u001b[0m\u001b[0;36m1\u001b[0m\u001b[0;34m)\u001b[0m\u001b[0;34m:\u001b[0m\u001b[0;34m\u001b[0m\u001b[0;34m\u001b[0m\u001b[0m\n\u001b[1;32m      3\u001b[0m     \u001b[0mstart_time\u001b[0m \u001b[0;34m=\u001b[0m \u001b[0mtime\u001b[0m\u001b[0;34m.\u001b[0m\u001b[0mtime\u001b[0m\u001b[0;34m(\u001b[0m\u001b[0;34m)\u001b[0m\u001b[0;34m\u001b[0m\u001b[0;34m\u001b[0m\u001b[0m\n\u001b[0;32m----> 4\u001b[0;31m     \u001b[0mtrain_loss\u001b[0m \u001b[0;34m=\u001b[0m \u001b[0mtrain_epoch\u001b[0m\u001b[0;34m(\u001b[0m\u001b[0mmodel\u001b[0m\u001b[0;34m,\u001b[0m \u001b[0membed_model\u001b[0m\u001b[0;34m.\u001b[0m\u001b[0mnode_embedder\u001b[0m\u001b[0;34m,\u001b[0m \u001b[0mtrain_loader\u001b[0m\u001b[0;34m)\u001b[0m\u001b[0;34m\u001b[0m\u001b[0;34m\u001b[0m\u001b[0m\n\u001b[0m\u001b[1;32m      5\u001b[0m     \u001b[0mend_time\u001b[0m \u001b[0;34m=\u001b[0m \u001b[0mtime\u001b[0m\u001b[0;34m.\u001b[0m\u001b[0mtime\u001b[0m\u001b[0;34m(\u001b[0m\u001b[0;34m)\u001b[0m\u001b[0;34m\u001b[0m\u001b[0;34m\u001b[0m\u001b[0m\n\u001b[1;32m      6\u001b[0m     \u001b[0mval_loss\u001b[0m \u001b[0;34m=\u001b[0m \u001b[0mevaluate\u001b[0m\u001b[0;34m(\u001b[0m\u001b[0mmodel\u001b[0m\u001b[0;34m,\u001b[0m \u001b[0mvalid_loader\u001b[0m\u001b[0;34m)\u001b[0m\u001b[0;34m\u001b[0m\u001b[0;34m\u001b[0m\u001b[0m\n",
      "\u001b[0;32m<ipython-input-43-3d81ae31fe63>\u001b[0m in \u001b[0;36mtrain_epoch\u001b[0;34m(model, embed_model, train_loader)\u001b[0m\n\u001b[1;32m     56\u001b[0m     \u001b[0mcum_loss\u001b[0m \u001b[0;34m=\u001b[0m \u001b[0;36m0\u001b[0m\u001b[0;34m\u001b[0m\u001b[0;34m\u001b[0m\u001b[0m\n\u001b[1;32m     57\u001b[0m     \u001b[0;32mfor\u001b[0m \u001b[0midx\u001b[0m\u001b[0;34m,\u001b[0m \u001b[0;34m(\u001b[0m\u001b[0mgraph\u001b[0m\u001b[0;34m,\u001b[0m\u001b[0mtgt\u001b[0m\u001b[0;34m)\u001b[0m \u001b[0;32min\u001b[0m \u001b[0menumerate\u001b[0m\u001b[0;34m(\u001b[0m\u001b[0mtrain_loader\u001b[0m\u001b[0;34m)\u001b[0m\u001b[0;34m:\u001b[0m\u001b[0;34m\u001b[0m\u001b[0;34m\u001b[0m\u001b[0m\n\u001b[0;32m---> 58\u001b[0;31m         \u001b[0mgraph\u001b[0m \u001b[0;34m=\u001b[0m \u001b[0mgraph\u001b[0m\u001b[0;34m.\u001b[0m\u001b[0mto\u001b[0m\u001b[0;34m(\u001b[0m\u001b[0mdevice\u001b[0m\u001b[0;34m)\u001b[0m\u001b[0;34m\u001b[0m\u001b[0;34m\u001b[0m\u001b[0m\n\u001b[0m\u001b[1;32m     59\u001b[0m         \u001b[0membed\u001b[0m \u001b[0;34m=\u001b[0m \u001b[0membed_model\u001b[0m\u001b[0;34m(\u001b[0m\u001b[0mgraph\u001b[0m\u001b[0;34m)\u001b[0m\u001b[0;34m\u001b[0m\u001b[0;34m\u001b[0m\u001b[0m\n\u001b[1;32m     60\u001b[0m \u001b[0;34m\u001b[0m\u001b[0m\n",
      "\u001b[0;31mRuntimeError\u001b[0m: CUDA error: unspecified launch failure\nCUDA kernel errors might be asynchronously reported at some other API call,so the stacktrace below might be incorrect.\nFor debugging consider passing CUDA_LAUNCH_BLOCKING=1."
     ]
    }
   ],
   "source": [
    "num_epochs = 30\n",
    "for epoch in range(1, num_epochs+1):\n",
    "    start_time = time.time()\n",
    "    train_loss = train_epoch(model, embed_model.node_embedder, train_loader)\n",
    "    end_time = time.time()\n",
    "    val_loss = evaluate(model, valid_loader)\n",
    "    print((f\"Epoch: {epoch}, Train loss: {train_loss:.3f}, Val loss: {val_loss:.3f}, \"\n",
    "          f\"Epoch time = {(end_time - start_time):.3f}s\"))"
   ]
  },
  {
   "cell_type": "code",
   "execution_count": null,
   "id": "laughing-restriction",
   "metadata": {},
   "outputs": [],
   "source": []
  }
 ],
 "metadata": {
  "kernelspec": {
   "display_name": "Python 3",
   "language": "python",
   "name": "python3"
  },
  "language_info": {
   "codemirror_mode": {
    "name": "ipython",
    "version": 3
   },
   "file_extension": ".py",
   "mimetype": "text/x-python",
   "name": "python",
   "nbconvert_exporter": "python",
   "pygments_lexer": "ipython3",
   "version": "3.9.2"
  }
 },
 "nbformat": 4,
 "nbformat_minor": 5
}
