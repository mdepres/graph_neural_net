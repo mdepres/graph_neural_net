{
 "cells": [
  {
   "cell_type": "code",
   "execution_count": 6,
   "id": "smooth-weight",
   "metadata": {},
   "outputs": [
    {
     "data": {
      "text/plain": [
       "<module 'models.coloring_model' from '/home/eichhornchen/Documents/Scolarité/M2_MVA/stage/graph_neural_net/models/coloring_model.py'>"
      ]
     },
     "execution_count": 6,
     "metadata": {},
     "output_type": "execute_result"
    }
   ],
   "source": [
    "import os\n",
    "from pathlib import Path\n",
    "import math\n",
    "import json\n",
    "import numpy as np\n",
    "import torch\n",
    "import time\n",
    "import matplotlib.pyplot as plt\n",
    "import imp\n",
    "from toolbox import losses\n",
    "imp.reload(losses)\n",
    "from toolbox.losses import coloring_loss, triplet_loss\n",
    "from toolbox import metrics\n",
    "from loaders.data_generator import KCOL_Generator\n",
    "from toolbox.metrics import all_losses_acc, accuracy_linear_assignment\n",
    "from toolbox.utils import check_dir\n",
    "from models import coloring_model\n",
    "imp.reload(coloring_model)"
   ]
  },
  {
   "cell_type": "code",
   "execution_count": 7,
   "id": "junior-calvin",
   "metadata": {},
   "outputs": [],
   "source": [
    "def get_device_config(model_path):\n",
    "    config_file = os.path.join(model_path,'config.json')\n",
    "    with open(config_file) as json_file:\n",
    "        config_model = json.load(json_file)\n",
    "    use_cuda = not config_model['cpu'] and torch.cuda.is_available()\n",
    "    device = 'cuda' if use_cuda else 'cpu'\n",
    "    return config_model, device\n",
    "\n",
    "def load_model(model_path, config, device):\n",
    "    model = get_model(config['arch'])\n",
    "    model.to(device)\n",
    "    model_file = os.path.join(model_path,'model_best.pth.tar')\n",
    "    if device == 'cpu':\n",
    "        checkpoint = torch.load(model_file,map_location=torch.device('cpu'))\n",
    "    else:\n",
    "        checkpoint = torch.load(model_file)\n",
    "    model.load_state_dict(checkpoint['state_dict'])\n",
    "    return model\n",
    "\n",
    "def creat_args(config, num_ex = 1000):\n",
    "    args = config['data']\n",
    "    args['num_examples_test'] = num_ex\n",
    "    n_vertices = args['n_vertices']\n",
    "    edge_density = args['edge_density']\n",
    "    deg = (n_vertices)*edge_density\n",
    "    print(f'graphs with {n_vertices} vertices and average degree {deg}')\n",
    "    return args, deg\n",
    "\n",
    "def acc_2_error(mean_acc, q_acc):\n",
    "    error = q_acc-mean_acc[:,np.newaxis]\n",
    "    error[:,0] = -error[:,0]\n",
    "    return error\n",
    "\n",
    "def compute_dataset(args,path_dataset,train=True,bs=10):\n",
    "    num_batches = math.ceil(args['num_examples_val']/bs)\n",
    "    if train:\n",
    "        gene = GCP_Generator('train', args, path_dataset)\n",
    "    else:\n",
    "        gene = GCP_Generator('test', args, path_dataset)\n",
    "    gene.load_dataset()\n",
    "    loader = siamese_loader(gene, bs, gene.constant_n_vertices)\n",
    "    return loader\n",
    "\n",
    "def compute_quant(all_acc,quant_low=0.1,quant_up=0.9):\n",
    "    mean_acc = np.mean(all_acc,1)\n",
    "    num = len(mean_acc)\n",
    "    q_acc = np.zeros((num,2))\n",
    "    for i in range(num):\n",
    "        q_acc[i,:] = np.quantile(all_acc[i,:],[quant_up, quant_low])\n",
    "    return mean_acc, q_acc\n",
    "\n",
    "def train_epoch(model, embed_model, train_loader):\n",
    "    loss_fn = coloring_loss()\n",
    "    optimizer = torch.optim.Adam(model.parameters(), lr=0.0001)\n",
    "    model.train()\n",
    "    cum_loss = 0\n",
    "    for idx, (graph,tgt) in enumerate(train_loader):\n",
    "        graph = graph.to(device)\n",
    "        embed = embed_model(graph)\n",
    "        \n",
    "        tgt = tgt.to(device)\n",
    "        \n",
    "        out = model(embed)\n",
    "        \n",
    "        optimizer.zero_grad()\n",
    "\n",
    "        loss = loss_fn(graph, out, tgt)\n",
    "        loss.backward()\n",
    "\n",
    "        optimizer.step()\n",
    "        cum_loss += loss.item()\n",
    "    return cum_loss / len(train_loader)\n",
    "\n",
    "\n",
    "def evaluate(model, val_loader):\n",
    "    model.eval()\n",
    "    cum_loss = 0\n",
    "    for idx, (graph, tgt) in (enumerate(valid_loader)):\n",
    "        graph = graph.to(device)\n",
    "        embed = embed_model(graph)\n",
    "        \n",
    "        tgt = tgt.to(device)\n",
    "        \n",
    "        out = model(embed)\n",
    "        \n",
    "        loss = loss_fn(out, tgt)\n",
    "        cum_loss += loss.item()\n",
    "    return cum_loss / len(val_loader) \n",
    "    "
   ]
  },
  {
   "cell_type": "markdown",
   "id": "sonic-capital",
   "metadata": {},
   "source": [
    "## Loading the pretrained model"
   ]
  },
  {
   "cell_type": "code",
   "execution_count": 8,
   "id": "chinese-optimization",
   "metadata": {},
   "outputs": [],
   "source": [
    "import requests\n",
    "config_url = 'https://github.com/mlelarge/graph_neural_net/releases/download/QAP/config.json'\n",
    "model_url = 'https://github.com/mlelarge/graph_neural_net/releases/download/QAP/model_best.pth.tar'\n",
    "cwd = os.getcwd()\n",
    "downloads = os.path.join(cwd, 'downloads')\n",
    "check_dir(downloads)\n",
    "\n",
    "r = requests.get(config_url)\n",
    "with open(cwd+'/downloads/config.json', 'wb') as f:\n",
    "    f.write(r.content)\n",
    "\n",
    "r = requests.get(model_url)\n",
    "with open(cwd+'/downloads/model_best.pth.tar', 'wb') as f:\n",
    "    f.write(r.content)"
   ]
  },
  {
   "cell_type": "code",
   "execution_count": 9,
   "id": "answering-british",
   "metadata": {},
   "outputs": [
    {
     "ename": "NameError",
     "evalue": "name 'get_model' is not defined",
     "output_type": "error",
     "traceback": [
      "\u001b[0;31m---------------------------------------------------------------------------\u001b[0m",
      "\u001b[0;31mNameError\u001b[0m                                 Traceback (most recent call last)",
      "\u001b[0;32m<ipython-input-9-e960277ec39a>\u001b[0m in \u001b[0;36m<module>\u001b[0;34m\u001b[0m\n\u001b[1;32m      1\u001b[0m \u001b[0mmodel_path\u001b[0m \u001b[0;34m=\u001b[0m \u001b[0mcwd\u001b[0m\u001b[0;34m+\u001b[0m\u001b[0;34m'/downloads/'\u001b[0m\u001b[0;34m\u001b[0m\u001b[0;34m\u001b[0m\u001b[0m\n\u001b[1;32m      2\u001b[0m \u001b[0mconfig_model\u001b[0m\u001b[0;34m,\u001b[0m \u001b[0mdevice\u001b[0m \u001b[0;34m=\u001b[0m \u001b[0mget_device_config\u001b[0m\u001b[0;34m(\u001b[0m\u001b[0mmodel_path\u001b[0m\u001b[0;34m)\u001b[0m\u001b[0;34m\u001b[0m\u001b[0;34m\u001b[0m\u001b[0m\n\u001b[0;32m----> 3\u001b[0;31m \u001b[0membed_model\u001b[0m \u001b[0;34m=\u001b[0m \u001b[0mload_model\u001b[0m\u001b[0;34m(\u001b[0m\u001b[0mmodel_path\u001b[0m\u001b[0;34m,\u001b[0m\u001b[0mconfig_model\u001b[0m\u001b[0;34m,\u001b[0m\u001b[0mdevice\u001b[0m\u001b[0;34m)\u001b[0m\u001b[0;34m\u001b[0m\u001b[0;34m\u001b[0m\u001b[0m\n\u001b[0m\u001b[1;32m      4\u001b[0m \u001b[0mcriterion\u001b[0m \u001b[0;34m=\u001b[0m \u001b[0mtriplet_loss\u001b[0m\u001b[0;34m(\u001b[0m\u001b[0;34m)\u001b[0m\u001b[0;34m\u001b[0m\u001b[0;34m\u001b[0m\u001b[0m\n",
      "\u001b[0;32m<ipython-input-7-a336f844fe20>\u001b[0m in \u001b[0;36mload_model\u001b[0;34m(model_path, config, device)\u001b[0m\n\u001b[1;32m      8\u001b[0m \u001b[0;34m\u001b[0m\u001b[0m\n\u001b[1;32m      9\u001b[0m \u001b[0;32mdef\u001b[0m \u001b[0mload_model\u001b[0m\u001b[0;34m(\u001b[0m\u001b[0mmodel_path\u001b[0m\u001b[0;34m,\u001b[0m \u001b[0mconfig\u001b[0m\u001b[0;34m,\u001b[0m \u001b[0mdevice\u001b[0m\u001b[0;34m)\u001b[0m\u001b[0;34m:\u001b[0m\u001b[0;34m\u001b[0m\u001b[0;34m\u001b[0m\u001b[0m\n\u001b[0;32m---> 10\u001b[0;31m     \u001b[0mmodel\u001b[0m \u001b[0;34m=\u001b[0m \u001b[0mget_model\u001b[0m\u001b[0;34m(\u001b[0m\u001b[0mconfig\u001b[0m\u001b[0;34m[\u001b[0m\u001b[0;34m'arch'\u001b[0m\u001b[0;34m]\u001b[0m\u001b[0;34m)\u001b[0m\u001b[0;34m\u001b[0m\u001b[0;34m\u001b[0m\u001b[0m\n\u001b[0m\u001b[1;32m     11\u001b[0m     \u001b[0mmodel\u001b[0m\u001b[0;34m.\u001b[0m\u001b[0mto\u001b[0m\u001b[0;34m(\u001b[0m\u001b[0mdevice\u001b[0m\u001b[0;34m)\u001b[0m\u001b[0;34m\u001b[0m\u001b[0;34m\u001b[0m\u001b[0m\n\u001b[1;32m     12\u001b[0m     \u001b[0mmodel_file\u001b[0m \u001b[0;34m=\u001b[0m \u001b[0mos\u001b[0m\u001b[0;34m.\u001b[0m\u001b[0mpath\u001b[0m\u001b[0;34m.\u001b[0m\u001b[0mjoin\u001b[0m\u001b[0;34m(\u001b[0m\u001b[0mmodel_path\u001b[0m\u001b[0;34m,\u001b[0m\u001b[0;34m'model_best.pth.tar'\u001b[0m\u001b[0;34m)\u001b[0m\u001b[0;34m\u001b[0m\u001b[0;34m\u001b[0m\u001b[0m\n",
      "\u001b[0;31mNameError\u001b[0m: name 'get_model' is not defined"
     ]
    }
   ],
   "source": [
    "model_path = cwd+'/downloads/'\n",
    "config_model, device = get_device_config(model_path)\n",
    "embed_model = load_model(model_path,config_model,device)\n",
    "criterion = triplet_loss()"
   ]
  },
  {
   "cell_type": "code",
   "execution_count": 25,
   "id": "peaceful-yugoslavia",
   "metadata": {},
   "outputs": [
    {
     "name": "stdout",
     "output_type": "stream",
     "text": [
      "graphs with 50 vertices and average degree 10.0\n"
     ]
    }
   ],
   "source": [
    "args,deg  = creat_args(config_model)"
   ]
  },
  {
   "cell_type": "markdown",
   "id": "urban-vocabulary",
   "metadata": {},
   "source": [
    "## Generating data and loaders"
   ]
  },
  {
   "cell_type": "code",
   "execution_count": 26,
   "id": "organizational-belarus",
   "metadata": {},
   "outputs": [
    {
     "name": "stdout",
     "output_type": "stream",
     "text": [
      "Creating dataset at downloads/Color_Regular_200_50_1.0_0.2/train.pkl\n"
     ]
    },
    {
     "name": "stderr",
     "output_type": "stream",
     "text": [
      "100%|██████████| 200/200 [00:02<00:00, 80.12it/s]\n"
     ]
    },
    {
     "name": "stdout",
     "output_type": "stream",
     "text": [
      "Saving dataset at downloads/Color_Regular_200_50_1.0_0.2/train.pkl\n",
      "Creating dataset at downloads/Color_Regular_200_50_1.0_0.2/train_dgl.pkl\n",
      "Converting data to DGL format\n"
     ]
    },
    {
     "name": "stderr",
     "output_type": "stream",
     "text": [
      "100%|██████████| 200/200 [00:00<00:00, 1201.58it/s]\n"
     ]
    },
    {
     "name": "stdout",
     "output_type": "stream",
     "text": [
      "Conversion ended.\n",
      "Saving dataset at downloads/Color_Regular_200_50_1.0_0.2/train_dgl.pkl\n",
      "Reading dataset at downloads/Color_Regular_1000_50_1.0_0.2/test.pkl\n"
     ]
    }
   ],
   "source": [
    "args['num_colors_low'] = 3\n",
    "args['num_colors_high'] = 5\n",
    "args['num_examples_train'] = 200\n",
    "args['num_examples_val'] = 10\n",
    "train_loader = compute_dataset(args, \"downloads\")\n",
    "test_loader = compute_dataset(args, \"downloads\", train=False)"
   ]
  },
  {
   "cell_type": "markdown",
   "id": "registered-virus",
   "metadata": {},
   "source": [
    "## Training the coloring model"
   ]
  },
  {
   "cell_type": "code",
   "execution_count": 27,
   "id": "caroline-bookmark",
   "metadata": {},
   "outputs": [
    {
     "data": {
      "text/plain": [
       "ColoringModel(\n",
       "  (mlp1): Linear(in_features=64, out_features=32, bias=True)\n",
       "  (mlp2): Linear(in_features=32, out_features=1, bias=True)\n",
       "  (relu): ReLU()\n",
       ")"
      ]
     },
     "execution_count": 27,
     "metadata": {},
     "output_type": "execute_result"
    }
   ],
   "source": [
    "model = coloring_model.ColoringModel(args['n_vertices'],embed_dim=64)\n",
    "model.to(device)"
   ]
  },
  {
   "cell_type": "code",
   "execution_count": 28,
   "id": "featured-tampa",
   "metadata": {},
   "outputs": [
    {
     "ename": "NameError",
     "evalue": "name 'valid_loader' is not defined",
     "output_type": "error",
     "traceback": [
      "\u001b[0;31m---------------------------------------------------------------------------\u001b[0m",
      "\u001b[0;31mNameError\u001b[0m                                 Traceback (most recent call last)",
      "\u001b[0;32m<ipython-input-28-f74cba506a8d>\u001b[0m in \u001b[0;36m<module>\u001b[0;34m\u001b[0m\n\u001b[1;32m      4\u001b[0m     \u001b[0mtrain_loss\u001b[0m \u001b[0;34m=\u001b[0m \u001b[0mtrain_epoch\u001b[0m\u001b[0;34m(\u001b[0m\u001b[0mmodel\u001b[0m\u001b[0;34m,\u001b[0m \u001b[0membed_model\u001b[0m\u001b[0;34m.\u001b[0m\u001b[0mnode_embedder\u001b[0m\u001b[0;34m,\u001b[0m \u001b[0mtrain_loader\u001b[0m\u001b[0;34m)\u001b[0m\u001b[0;34m\u001b[0m\u001b[0;34m\u001b[0m\u001b[0m\n\u001b[1;32m      5\u001b[0m     \u001b[0mend_time\u001b[0m \u001b[0;34m=\u001b[0m \u001b[0mtime\u001b[0m\u001b[0;34m.\u001b[0m\u001b[0mtime\u001b[0m\u001b[0;34m(\u001b[0m\u001b[0;34m)\u001b[0m\u001b[0;34m\u001b[0m\u001b[0;34m\u001b[0m\u001b[0m\n\u001b[0;32m----> 6\u001b[0;31m     \u001b[0mval_loss\u001b[0m \u001b[0;34m=\u001b[0m \u001b[0mevaluate\u001b[0m\u001b[0;34m(\u001b[0m\u001b[0mmodel\u001b[0m\u001b[0;34m,\u001b[0m \u001b[0mvalid_loader\u001b[0m\u001b[0;34m)\u001b[0m\u001b[0;34m\u001b[0m\u001b[0;34m\u001b[0m\u001b[0m\n\u001b[0m\u001b[1;32m      7\u001b[0m     print((f\"Epoch: {epoch}, Train loss: {train_loss:.3f}, Val loss: {val_loss:.3f}, \"\n\u001b[1;32m      8\u001b[0m           f\"Epoch time = {(end_time - start_time):.3f}s\"))\n",
      "\u001b[0;31mNameError\u001b[0m: name 'valid_loader' is not defined"
     ]
    }
   ],
   "source": [
    "num_epochs = 30\n",
    "for epoch in range(1, num_epochs+1):\n",
    "    start_time = time.time()\n",
    "    train_loss = train_epoch(model, embed_model.node_embedder, train_loader)\n",
    "    end_time = time.time()\n",
    "    val_loss = evaluate(model, valid_loader)\n",
    "    print((f\"Epoch: {epoch}, Train loss: {train_loss:.3f}, Val loss: {val_loss:.3f}, \"\n",
    "          f\"Epoch time = {(end_time - start_time):.3f}s\"))"
   ]
  }
 ],
 "metadata": {
  "kernelspec": {
   "display_name": "Python 3",
   "language": "python",
   "name": "python3"
  },
  "language_info": {
   "codemirror_mode": {
    "name": "ipython",
    "version": 3
   },
   "file_extension": ".py",
   "mimetype": "text/x-python",
   "name": "python",
   "nbconvert_exporter": "python",
   "pygments_lexer": "ipython3",
   "version": "3.9.2"
  }
 },
 "nbformat": 4,
 "nbformat_minor": 5
}
