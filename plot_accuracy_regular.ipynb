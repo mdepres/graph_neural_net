{
 "cells": [
  {
   "cell_type": "markdown",
   "metadata": {
    "colab_type": "text",
    "id": "view-in-github"
   },
   "source": [
    "<a href=\"https://colab.research.google.com/github/mlelarge/graph_neural_net/blob/main/plot_accuracy_regular.ipynb\" target=\"_parent\"><img src=\"https://colab.research.google.com/assets/colab-badge.svg\" alt=\"Open In Colab\"/></a>"
   ]
  },
  {
   "cell_type": "code",
   "execution_count": 1,
   "metadata": {
    "id": "bMBhl_h9rNml"
   },
   "outputs": [],
   "source": [
    "# If running on Colab, uncomment the code below:\n",
    "#!git clone https://github.com/mlelarge/graph_neural_net.git\n",
    "#!pip3 install dgl\n",
    "#%cd graph_neural_net"
   ]
  },
  {
   "cell_type": "code",
   "execution_count": 2,
   "metadata": {
    "id": "8knOR8Ppq1ei"
   },
   "outputs": [],
   "source": [
    "import os\n",
    "from pathlib import Path\n",
    "import math\n",
    "import json\n",
    "import numpy as np\n",
    "import torch\n",
    "import matplotlib.pyplot as plt\n",
    "from models import get_model\n",
    "from toolbox.losses import triplet_loss\n",
    "from toolbox import metrics\n",
    "from loaders.data_generator import QAP_Generator\n",
    "from loaders.siamese_loaders import siamese_loader\n",
    "from toolbox.metrics import all_losses_acc, accuracy_linear_assignment\n",
    "from toolbox.utils import check_dir"
   ]
  },
  {
   "cell_type": "code",
   "execution_count": 3,
   "metadata": {
    "id": "bYtVj2EEq1el"
   },
   "outputs": [],
   "source": [
    "def get_device_config(model_path):\n",
    "    config_file = os.path.join(model_path,'config.json')\n",
    "    with open(config_file) as json_file:\n",
    "        config_model = json.load(json_file)\n",
    "    use_cuda = not config_model['cpu'] and torch.cuda.is_available()\n",
    "    device = 'cuda' if use_cuda else 'cpu'\n",
    "    return config_model, device\n",
    "\n",
    "def load_model(model_path, config, device):\n",
    "    model = get_model(config['arch'])\n",
    "    model.to(device)\n",
    "    model_file = os.path.join(model_path,'model_best.pth.tar')\n",
    "    if device == 'cpu':\n",
    "        checkpoint = torch.load(model_file,map_location=torch.device('cpu'))\n",
    "    else:\n",
    "        checkpoint = torch.load(model_file)\n",
    "    model.load_state_dict(checkpoint['state_dict'])\n",
    "    return model\n",
    "\n",
    "def creat_args(config, num_ex = 1000):\n",
    "    args = config['data']\n",
    "    args['num_examples_test'] = num_ex\n",
    "    n_vertices = args['n_vertices']\n",
    "    edge_density = args['edge_density']\n",
    "    deg = (n_vertices)*edge_density\n",
    "    print(f'graphs with {n_vertices} vertices and average degree {deg}')\n",
    "    return args, deg\n",
    "\n",
    "def acc_2_error(mean_acc, q_acc):\n",
    "    error = q_acc-mean_acc[:,np.newaxis]\n",
    "    error[:,0] = -error[:,0]\n",
    "    return error\n",
    "\n",
    "def compute_all(list_noise,args,path_dataset,model,bs=50):\n",
    "    num_batches = math.ceil(args['num_examples_test']/bs)\n",
    "    all_losses = np.zeros((len(list_noise),num_batches))\n",
    "    all_acc = np.zeros((len(list_noise),args['num_examples_test']))\n",
    "    for i,noise in enumerate(list_noise):\n",
    "        args['noise'] = noise\n",
    "        gene_test = QAP_Generator('test', args, path_dataset)\n",
    "        gene_test.load_dataset()\n",
    "        test_loader = siamese_loader(gene_test, bs, gene_test.constant_n_vertices)\n",
    "        all_losses[i,:], all_acc[i,:] = all_losses_acc(test_loader,model,criterion,device,eval_score=accuracy_linear_assignment)\n",
    "    return all_losses, all_acc\n",
    "\n",
    "def compute_quant(all_acc,quant_low=0.1,quant_up=0.9):\n",
    "    mean_acc = np.mean(all_acc,1)\n",
    "    num = len(mean_acc)\n",
    "    q_acc = np.zeros((num,2))\n",
    "    for i in range(num):\n",
    "        q_acc[i,:] = np.quantile(all_acc[i,:],[quant_up, quant_low])\n",
    "    return mean_acc, q_acc"
   ]
  },
  {
   "cell_type": "markdown",
   "metadata": {
    "id": "MPsUHY_Yq1en"
   },
   "source": [
    "# Downloading the pretrained model\n",
    "\n",
    "The cell below should only be run once, it creates a folder `downloads/` and then downloads in this folder the pretrained model and the configuration file."
   ]
  },
  {
   "cell_type": "code",
   "execution_count": 18,
   "metadata": {
    "id": "xGBbdGAzq1ep"
   },
   "outputs": [],
   "source": [
    "import requests\n",
    "config_url = 'https://github.com/mlelarge/graph_neural_net/releases/download/QAP/config.json'\n",
    "model_url = 'https://github.com/mlelarge/graph_neural_net/releases/download/QAP/model_best.pth.tar'\n",
    "cwd = os.getcwd()\n",
    "downloads = os.path.join(cwd, 'downloads')\n",
    "check_dir(downloads)\n",
    "\n",
    "r = requests.get(config_url)\n",
    "with open(cwd+'/downloads/config.json', 'wb') as f:\n",
    "    f.write(r.content)\n",
    "\n",
    "r = requests.get(model_url)\n",
    "with open(cwd+'/downloads/model_best.pth.tar', 'wb') as f:\n",
    "    f.write(r.content)"
   ]
  },
  {
   "cell_type": "code",
   "execution_count": 19,
   "metadata": {
    "colab": {
     "base_uri": "https://localhost:8080/"
    },
    "id": "ds19kC0cq1eq",
    "outputId": "ddcfed75-9c09-4672-f097-025f6270cad2"
   },
   "outputs": [
    {
     "name": "stdout",
     "output_type": "stream",
     "text": [
      "Fetching model Siamese_Model - Simple_Node_Embedding \n"
     ]
    }
   ],
   "source": [
    "model_path = cwd+'/downloads/'\n",
    "config_model, device = get_device_config(model_path)\n",
    "model = load_model(model_path,config_model,device)\n",
    "criterion = triplet_loss()"
   ]
  },
  {
   "cell_type": "code",
   "execution_count": 20,
   "metadata": {
    "colab": {
     "base_uri": "https://localhost:8080/"
    },
    "id": "CINt2DjLq1er",
    "outputId": "6057c1ec-71e2-426b-9a28-572af6a535c7"
   },
   "outputs": [
    {
     "name": "stdout",
     "output_type": "stream",
     "text": [
      "graphs with 50 vertices and average degree 10.0\n"
     ]
    }
   ],
   "source": [
    "args,deg  = creat_args(config_model)"
   ]
  },
  {
   "cell_type": "code",
   "execution_count": 21,
   "metadata": {
    "id": "a57L_Z7Qq1es"
   },
   "outputs": [],
   "source": [
    "num = 23\n",
    "list_noise = np.linspace(0, 0.22, num=num)"
   ]
  },
  {
   "cell_type": "markdown",
   "metadata": {
    "id": "9WOzNYIBq1et"
   },
   "source": [
    "# Inference\n",
    "\n",
    "The cell below will create dataset of graphs with various level of noise if they do not exist, otherwise it will only read them."
   ]
  },
  {
   "cell_type": "code",
   "execution_count": 22,
   "metadata": {
    "colab": {
     "base_uri": "https://localhost:8080/"
    },
    "collapsed": true,
    "id": "kt9OiThYq1et",
    "outputId": "30dcbf2f-e0d0-4abc-b1e7-38441a5d32a5"
   },
   "outputs": [
    {
     "name": "stdout",
     "output_type": "stream",
     "text": [
      "Reading dataset at /root/data/QAP_Regular_ErdosRenyi_1000_50_1.0_0.0_0.2/test.pkl\n"
     ]
    },
    {
     "name": "stderr",
     "output_type": "stream",
     "text": [
      "/usr/local/lib/python3.7/dist-packages/torch/utils/data/dataloader.py:481: UserWarning: This DataLoader will create 4 worker processes in total. Our suggested max number of worker in current system is 2, which is smaller than what this DataLoader is going to create. Please be aware that excessive worker creation might get DataLoader running slow or even freeze, lower the worker number to avoid potential slowness/freeze if necessary.\n",
      "  cpuset_checked))\n"
     ]
    },
    {
     "name": "stdout",
     "output_type": "stream",
     "text": [
      "Reading dataset at /root/data/QAP_Regular_ErdosRenyi_1000_50_1.0_0.01_0.2/test.pkl\n",
      "Reading dataset at /root/data/QAP_Regular_ErdosRenyi_1000_50_1.0_0.02_0.2/test.pkl\n",
      "Reading dataset at /root/data/QAP_Regular_ErdosRenyi_1000_50_1.0_0.03_0.2/test.pkl\n",
      "Reading dataset at /root/data/QAP_Regular_ErdosRenyi_1000_50_1.0_0.04_0.2/test.pkl\n",
      "Reading dataset at /root/data/QAP_Regular_ErdosRenyi_1000_50_1.0_0.05_0.2/test.pkl\n",
      "Reading dataset at /root/data/QAP_Regular_ErdosRenyi_1000_50_1.0_0.06_0.2/test.pkl\n",
      "Reading dataset at /root/data/QAP_Regular_ErdosRenyi_1000_50_1.0_0.07_0.2/test.pkl\n",
      "Reading dataset at /root/data/QAP_Regular_ErdosRenyi_1000_50_1.0_0.08_0.2/test.pkl\n",
      "Reading dataset at /root/data/QAP_Regular_ErdosRenyi_1000_50_1.0_0.09_0.2/test.pkl\n",
      "Reading dataset at /root/data/QAP_Regular_ErdosRenyi_1000_50_1.0_0.1_0.2/test.pkl\n",
      "Reading dataset at /root/data/QAP_Regular_ErdosRenyi_1000_50_1.0_0.11_0.2/test.pkl\n",
      "Reading dataset at /root/data/QAP_Regular_ErdosRenyi_1000_50_1.0_0.12_0.2/test.pkl\n",
      "Reading dataset at /root/data/QAP_Regular_ErdosRenyi_1000_50_1.0_0.13_0.2/test.pkl\n",
      "Reading dataset at /root/data/QAP_Regular_ErdosRenyi_1000_50_1.0_0.14_0.2/test.pkl\n",
      "Reading dataset at /root/data/QAP_Regular_ErdosRenyi_1000_50_1.0_0.15_0.2/test.pkl\n",
      "Reading dataset at /root/data/QAP_Regular_ErdosRenyi_1000_50_1.0_0.16_0.2/test.pkl\n",
      "Reading dataset at /root/data/QAP_Regular_ErdosRenyi_1000_50_1.0_0.17_0.2/test.pkl\n",
      "Reading dataset at /root/data/QAP_Regular_ErdosRenyi_1000_50_1.0_0.18_0.2/test.pkl\n",
      "Reading dataset at /root/data/QAP_Regular_ErdosRenyi_1000_50_1.0_0.19_0.2/test.pkl\n",
      "Reading dataset at /root/data/QAP_Regular_ErdosRenyi_1000_50_1.0_0.2_0.2/test.pkl\n",
      "Reading dataset at /root/data/QAP_Regular_ErdosRenyi_1000_50_1.0_0.21_0.2/test.pkl\n",
      "Reading dataset at /root/data/QAP_Regular_ErdosRenyi_1000_50_1.0_0.22_0.2/test.pkl\n"
     ]
    }
   ],
   "source": [
    "ROOT_DIR = Path.home()\n",
    "path_dataset = os.path.join(ROOT_DIR, 'data/')\n",
    "all_l, all_a = compute_all(list_noise,args,path_dataset,model);"
   ]
  },
  {
   "cell_type": "markdown",
   "metadata": {
    "id": "X_sMxZ-8q1eu"
   },
   "source": [
    "# Results\n",
    "\n",
    "The FGNN has been trained with regular graphs with $50$ vertices, average degree $10$ and noise level $0.15$. The accuracy below is the fraction of matched vertices between two noisy versions of a given graph at various level of noise."
   ]
  },
  {
   "cell_type": "code",
   "execution_count": 23,
   "metadata": {
    "id": "3ZWCSXQkq1ev"
   },
   "outputs": [],
   "source": [
    "quant_low=0.1\n",
    "quant_up=0.9\n",
    "mc_50, q50 = compute_quant(all_a,quant_low=quant_low,quant_up=quant_up)"
   ]
  },
  {
   "cell_type": "code",
   "execution_count": 24,
   "metadata": {
    "colab": {
     "base_uri": "https://localhost:8080/",
     "height": 295
    },
    "id": "lDv7q1c9q1ev",
    "outputId": "7e50c6bd-15cf-4f8e-c4a6-083d95ca2bc0"
   },
   "outputs": [
    {
     "data": {
      "image/png": "[encoded data removed]",
      "text/plain": [
       "<Figure size 432x288 with 1 Axes>"
      ]
     },
     "metadata": {
      "needs_background": "light"
     },
     "output_type": "display_data"
    }
   ],
   "source": [
    "error_50 = acc_2_error(mc_50,q50)\n",
    "\n",
    "plt.errorbar(list_noise,mc_50,yerr=error_50.T,label='FGNN');\n",
    "plt.xlabel('noise (fraction of noisy edges)')\n",
    "plt.ylabel('accuracy')\n",
    "plt.title(f'Graphs with avg. degree {deg} (quantile {int(100*quant_low)}-{int(100*quant_up)}%)')\n",
    "plt.legend()\n",
    "plt.show()"
   ]
  },
  {
   "cell_type": "code",
   "execution_count": 24,
   "metadata": {
    "id": "Q9FiaXYpq1ew"
   },
   "outputs": [],
   "source": []
  }
 ],
 "metadata": {
  "accelerator": "GPU",
  "colab": {
   "include_colab_link": true,
   "name": "plot_accuracy_regular.ipynb",
   "provenance": []
  },
  "kernelspec": {
   "display_name": "Python 3",
   "language": "python",
   "name": "python3"
  },
  "language_info": {
   "codemirror_mode": {
    "name": "ipython",
    "version": 3
   },
   "file_extension": ".py",
   "mimetype": "text/x-python",
   "name": "python",
   "nbconvert_exporter": "python",
   "pygments_lexer": "ipython3",
   "version": "3.9.2"
  }
 },
 "nbformat": 4,
 "nbformat_minor": 1
}
